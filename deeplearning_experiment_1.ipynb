{
  "nbformat": 4,
  "nbformat_minor": 0,
  "metadata": {
    "colab": {
      "provenance": []
    },
    "kernelspec": {
      "name": "python3",
      "display_name": "Python 3"
    },
    "language_info": {
      "name": "python"
    }
  },
  "cells": [
    {
      "cell_type": "code",
      "execution_count": null,
      "metadata": {
        "id": "Q5tjl9QBGu0_"
      },
      "outputs": [],
      "source": [
        "import torch\n",
        "import torch.nn as nn\n",
        "import torch.optim as optim\n",
        "import pandas as pd\n",
        "from sklearn.model_selection import train_test_split\n",
        "from sklearn.preprocessing import MinMaxScaler"
      ]
    },
    {
      "cell_type": "code",
      "source": [
        "dataset1 = pd.read_csv('/content/dl data.csv')\n",
        "X = dataset1[['Input']].values\n",
        "y = dataset1[['Output']].values"
      ],
      "metadata": {
        "id": "kYCGbb7RG79C"
      },
      "execution_count": null,
      "outputs": []
    },
    {
      "cell_type": "code",
      "source": [
        "X_train, X_test, y_train, y_test = train_test_split(X, y, test_size=0.33, random_state=33)"
      ],
      "metadata": {
        "id": "ObxrJhPkHGPS"
      },
      "execution_count": null,
      "outputs": []
    },
    {
      "cell_type": "code",
      "source": [
        "scaler = MinMaxScaler()\n",
        "X_train = scaler.fit_transform(X_train)\n",
        "X_test = scaler.transform(X_test)"
      ],
      "metadata": {
        "id": "QUQ__T6uHL7A"
      },
      "execution_count": null,
      "outputs": []
    },
    {
      "cell_type": "code",
      "source": [
        "X_train_tensor = torch.tensor(X_train, dtype=torch.float32)\n",
        "y_train_tensor = torch.tensor(y_train, dtype=torch.float32).view(-1, 1)\n",
        "X_test_tensor = torch.tensor(X_test, dtype=torch.float32)\n",
        "y_test_tensor = torch.tensor(y_test, dtype=torch.float32).view(-1, 1)"
      ],
      "metadata": {
        "id": "M-RnV4-aHRqw"
      },
      "execution_count": null,
      "outputs": []
    },
    {
      "cell_type": "code",
      "source": [
        "class NeuralNet(nn.Module):\n",
        "  def __init__(self):\n",
        "        super().__init__()\n",
        "        self.fc1=nn.Linear(1,8)\n",
        "        self.fc2=nn.Linear(8,10)\n",
        "        self.fc3=nn.Linear(10,1)\n",
        "        self.relu = nn.ReLU()\n",
        "        self.history = {'loss': []}\n",
        "\n",
        "  def forward(self,x):\n",
        "    x=self.relu(self.fc1(x))\n",
        "    x=self.relu(self.fc2(x))\n",
        "    x=self.fc3(x)\n",
        "    return x"
      ],
      "metadata": {
        "id": "G9HlH0zTHV_y"
      },
      "execution_count": null,
      "outputs": []
    },
    {
      "cell_type": "code",
      "source": [
        "ai_brain=NeuralNet()\n",
        "criterion=nn.MSELoss()\n",
        "optimizer=optim.RMSprop(ai_brain.parameters(),lr=0.001)\n",
        "def train_model(ai_brain, X_train, y_train, criterion, optimizer, epochs=5000):\n",
        "\n",
        "    for epoch in range(epochs):\n",
        "      optimizer.zero_grad()\n",
        "      loss=criterion(ai_brain(X_train),y_train)\n",
        "      loss.backward()\n",
        "      optimizer.step()\n",
        "\n",
        "\n",
        "\n",
        "\n",
        "      ai_brain.history['loss'].append(loss.item())\n",
        "      if epoch % 200 == 0:\n",
        "          print(f'Epoch [{epoch}/{epochs}], Loss: {loss.item():.6f}')\n"
      ],
      "metadata": {
        "id": "t1FrRS7rHZJA"
      },
      "execution_count": null,
      "outputs": []
    },
    {
      "cell_type": "code",
      "source": [
        "train_model(ai_brain, X_train_tensor, y_train_tensor, criterion, optimizer)"
      ],
      "metadata": {
        "colab": {
          "base_uri": "https://localhost:8080/"
        },
        "id": "DJ6W7TiQHb-_",
        "outputId": "23712fcc-a020-4956-8c2c-8785177f3341"
      },
      "execution_count": null,
      "outputs": [
        {
          "output_type": "stream",
          "name": "stdout",
          "text": [
            "Epoch [0/5000], Loss: 5665.291992\n",
            "Epoch [200/5000], Loss: 4453.380371\n",
            "Epoch [400/5000], Loss: 2378.342041\n",
            "Epoch [600/5000], Loss: 808.292419\n",
            "Epoch [800/5000], Loss: 440.970978\n",
            "Epoch [1000/5000], Loss: 312.724030\n",
            "Epoch [1200/5000], Loss: 162.989014\n",
            "Epoch [1400/5000], Loss: 49.826744\n",
            "Epoch [1600/5000], Loss: 6.388186\n",
            "Epoch [1800/5000], Loss: 0.251655\n",
            "Epoch [2000/5000], Loss: 0.020087\n",
            "Epoch [2200/5000], Loss: 0.002089\n",
            "Epoch [2400/5000], Loss: 0.015757\n",
            "Epoch [2600/5000], Loss: 0.007837\n",
            "Epoch [2800/5000], Loss: 0.010766\n",
            "Epoch [3000/5000], Loss: 0.011335\n",
            "Epoch [3200/5000], Loss: 0.010355\n",
            "Epoch [3400/5000], Loss: 0.010709\n",
            "Epoch [3600/5000], Loss: 0.010709\n",
            "Epoch [3800/5000], Loss: 0.010695\n",
            "Epoch [4000/5000], Loss: 0.010712\n",
            "Epoch [4200/5000], Loss: 0.010704\n",
            "Epoch [4400/5000], Loss: 0.010699\n",
            "Epoch [4600/5000], Loss: 0.010704\n",
            "Epoch [4800/5000], Loss: 0.010699\n"
          ]
        }
      ]
    },
    {
      "cell_type": "code",
      "source": [
        "with torch.no_grad():\n",
        "    test_loss = criterion(ai_brain(X_test_tensor), y_test_tensor)\n",
        "    print(f'Test Loss: {test_loss.item():.6f}')"
      ],
      "metadata": {
        "colab": {
          "base_uri": "https://localhost:8080/"
        },
        "id": "LWb48je1Heky",
        "outputId": "be6cf11f-d50e-458c-8da2-84f8795a4947"
      },
      "execution_count": null,
      "outputs": [
        {
          "output_type": "stream",
          "name": "stdout",
          "text": [
            "Test Loss: 3.106505\n"
          ]
        }
      ]
    },
    {
      "cell_type": "code",
      "source": [
        "loss_df = pd.DataFrame(ai_brain.history)"
      ],
      "metadata": {
        "id": "piUhiDgYHgo-"
      },
      "execution_count": null,
      "outputs": []
    },
    {
      "cell_type": "code",
      "source": [
        "import matplotlib.pyplot as plt\n",
        "loss_df.plot()\n",
        "plt.xlabel(\"Epochs\")\n",
        "plt.ylabel(\"Loss\")\n",
        "plt.title(\"Loss during Training\")\n",
        "plt.show()\n"
      ],
      "metadata": {
        "colab": {
          "base_uri": "https://localhost:8080/",
          "height": 472
        },
        "id": "Mo43uut_Hig8",
        "outputId": "71a0d3db-cde2-48bb-a224-4db9fd900937"
      },
      "execution_count": null,
      "outputs": [
        {
          "output_type": "display_data",
          "data": {
            "text/plain": [
              "<Figure size 640x480 with 1 Axes>"
            ],
            "image/png": "[encoded data removed]"
          },
          "metadata": {}
        }
      ]
    },
    {
      "cell_type": "code",
      "source": [
        "X_n1_1 = torch.tensor([[14]], dtype=torch.float32)\n",
        "prediction = ai_brain(torch.tensor(scaler.transform(X_n1_1), dtype=torch.float32)).item()\n",
        "print(f'Prediction: {prediction}')\n"
      ],
      "metadata": {
        "colab": {
          "base_uri": "https://localhost:8080/"
        },
        "id": "ELukZ6OVHlC0",
        "outputId": "9c54c9b2-b843-44aa-81bb-1026d45ccb9c"
      },
      "execution_count": null,
      "outputs": [
        {
          "output_type": "stream",
          "name": "stdout",
          "text": [
            "Prediction: 141.17567443847656\n"
          ]
        }
      ]
    }
  ]
}